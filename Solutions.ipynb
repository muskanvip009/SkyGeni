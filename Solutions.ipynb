{
 "cells": [
  {
   "cell_type": "markdown",
   "id": "2ea4f361",
   "metadata": {},
   "source": [
    "#  **SkyGeni**\n"
   ]
  },
  {
   "cell_type": "markdown",
   "id": "6884f3f4",
   "metadata": {},
   "source": [
    "## 📘 Step 1: Import All the Necessary Libraries\n"
   ]
  },
  {
   "cell_type": "code",
   "execution_count": 91,
   "id": "a4acd36e",
   "metadata": {},
   "outputs": [],
   "source": [
    "import pandas as pd\n",
    "import matplotlib.pyplot as plt\n",
    "import seaborn as sns"
   ]
  },
  {
   "cell_type": "markdown",
   "id": "8ef1b5f0",
   "metadata": {},
   "source": [
    "## 📘 Step 2: Import all the csv file and storing into dataframes"
   ]
  },
  {
   "cell_type": "code",
   "execution_count": 92,
   "id": "26927d15",
   "metadata": {},
   "outputs": [],
   "source": [
    "industry_client=pd.read_csv(\"Files/industry_client_details.csv\")\n",
    "financial_information =pd.read_csv(\"Files/finanical_information.csv\")\n",
    "payment_information=pd.read_csv(\"Files/payment_information.csv\")\n",
    "subscription_information=pd.read_csv(\"Files/subscription_information.csv\")"
   ]
  },
  {
   "cell_type": "markdown",
   "id": "122edcd0",
   "metadata": {},
   "source": [
    "## 📘 Step 3 Understanding the data and the relationship"
   ]
  },
  {
   "cell_type": "markdown",
   "id": "7eccd301",
   "metadata": {},
   "source": [
    "## Table 1 : Subscription Information"
   ]
  },
  {
   "cell_type": "code",
   "execution_count": 93,
   "id": "386140c6",
   "metadata": {},
   "outputs": [
    {
     "name": "stdout",
     "output_type": "stream",
     "text": [
      "<class 'pandas.core.frame.DataFrame'>\n",
      "RangeIndex: 100 entries, 0 to 99\n",
      "Data columns (total 5 columns):\n",
      " #   Column             Non-Null Count  Dtype \n",
      "---  ------             --------------  ----- \n",
      " 0   client_id          100 non-null    int64 \n",
      " 1   subscription_type  100 non-null    object\n",
      " 2   start_date         100 non-null    object\n",
      " 3   end_date           100 non-null    object\n",
      " 4   renewed            100 non-null    bool  \n",
      "dtypes: bool(1), int64(1), object(3)\n",
      "memory usage: 3.3+ KB\n"
     ]
    }
   ],
   "source": [
    "subscription_information.info()"
   ]
  },
  {
   "cell_type": "code",
   "execution_count": 94,
   "id": "1d4bc089",
   "metadata": {},
   "outputs": [
    {
     "data": {
      "text/html": [
       "<div>\n",
       "<style scoped>\n",
       "    .dataframe tbody tr th:only-of-type {\n",
       "        vertical-align: middle;\n",
       "    }\n",
       "\n",
       "    .dataframe tbody tr th {\n",
       "        vertical-align: top;\n",
       "    }\n",
       "\n",
       "    .dataframe thead th {\n",
       "        text-align: right;\n",
       "    }\n",
       "</style>\n",
       "<table border=\"1\" class=\"dataframe\">\n",
       "  <thead>\n",
       "    <tr style=\"text-align: right;\">\n",
       "      <th></th>\n",
       "      <th>client_id</th>\n",
       "      <th>subscription_type</th>\n",
       "      <th>start_date</th>\n",
       "      <th>end_date</th>\n",
       "      <th>renewed</th>\n",
       "    </tr>\n",
       "  </thead>\n",
       "  <tbody>\n",
       "    <tr>\n",
       "      <th>0</th>\n",
       "      <td>1131383004</td>\n",
       "      <td>Yearly</td>\n",
       "      <td>2020-11-11</td>\n",
       "      <td>2021-11-11</td>\n",
       "      <td>False</td>\n",
       "    </tr>\n",
       "    <tr>\n",
       "      <th>1</th>\n",
       "      <td>4309371709</td>\n",
       "      <td>Monthly</td>\n",
       "      <td>2021-05-24</td>\n",
       "      <td>2021-06-23</td>\n",
       "      <td>True</td>\n",
       "    </tr>\n",
       "    <tr>\n",
       "      <th>2</th>\n",
       "      <td>3183675157</td>\n",
       "      <td>Yearly</td>\n",
       "      <td>2021-12-25</td>\n",
       "      <td>2022-12-25</td>\n",
       "      <td>True</td>\n",
       "    </tr>\n",
       "    <tr>\n",
       "      <th>3</th>\n",
       "      <td>5371694837</td>\n",
       "      <td>Monthly</td>\n",
       "      <td>2020-03-14</td>\n",
       "      <td>2020-04-13</td>\n",
       "      <td>True</td>\n",
       "    </tr>\n",
       "    <tr>\n",
       "      <th>4</th>\n",
       "      <td>5157113076</td>\n",
       "      <td>Monthly</td>\n",
       "      <td>2019-11-07</td>\n",
       "      <td>2019-12-07</td>\n",
       "      <td>False</td>\n",
       "    </tr>\n",
       "  </tbody>\n",
       "</table>\n",
       "</div>"
      ],
      "text/plain": [
       "    client_id subscription_type  start_date    end_date  renewed\n",
       "0  1131383004            Yearly  2020-11-11  2021-11-11    False\n",
       "1  4309371709           Monthly  2021-05-24  2021-06-23     True\n",
       "2  3183675157            Yearly  2021-12-25  2022-12-25     True\n",
       "3  5371694837           Monthly  2020-03-14  2020-04-13     True\n",
       "4  5157113076           Monthly  2019-11-07  2019-12-07    False"
      ]
     },
     "execution_count": 94,
     "metadata": {},
     "output_type": "execute_result"
    }
   ],
   "source": [
    "subscription_information.head()"
   ]
  },
  {
   "cell_type": "markdown",
   "id": "f4e4179e",
   "metadata": {},
   "source": [
    "### 🔍 Observation\n",
    "\n",
    "- There are **no missing (null) values** in the dataset, so no imputation or removal is required.\n",
    "- The **only transformation needed** is to **convert** the `start_date` and `end_date` columns to proper `datetime` format for accurate analysis.\n"
   ]
  },
  {
   "cell_type": "markdown",
   "id": "e1a056d2",
   "metadata": {},
   "source": [
    "### Handling the Datatype\n"
   ]
  },
  {
   "cell_type": "code",
   "execution_count": 95,
   "id": "65f124eb",
   "metadata": {},
   "outputs": [
    {
     "data": {
      "text/plain": [
       "array(['2020-11-11', '2021-05-24', '2021-12-25', '2020-03-14',\n",
       "       '2019-11-07', '2022-02-24', '2019-06-14', '2022-10-11',\n",
       "       '2018-12-03', '2019-07-07', '2020-09-17', '2021-07-05',\n",
       "       '2019-05-16', '2020-09-19', '2022-11-25', '2021-08-30',\n",
       "       '2022-04-09', '2019-01-24', '2020-01-25', '2021-06-04',\n",
       "       '2020-08-14', '2019-12-29', '2018-05-29', '2019-07-19',\n",
       "       '2018-05-18', '2021-09-15', '2019-11-15', '2020-06-03',\n",
       "       '2021-12-18', '2018-04-03', '2022-06-06', '2019-05-01',\n",
       "       '2021-11-15', '2018-05-21', '2021-12-02', '2020-06-25',\n",
       "       '2021-02-13', '2022-12-20', '2020-04-04', '2022-01-06',\n",
       "       '2020-11-13', '2020-05-15', '2021-06-02', '2020-12-17',\n",
       "       '2022-02-17', '2019-07-09', '2019-03-02', '2022-03-06',\n",
       "       '2018-07-21', '2020-11-04', '2018-11-08', '2018-07-10',\n",
       "       '2021-02-23', '2021-04-24', '2021-07-26', '2020-03-29',\n",
       "       '2019-12-30', '2019-07-06', '2018-12-14', '2021-06-28',\n",
       "       '2022-11-14', '2021-01-19', '2022-02-14', '2018-12-12',\n",
       "       '2018-04-12', '2018-12-19', '2018-02-10', '2019-09-14',\n",
       "       '2018-11-28', '2019-05-24', '2019-04-21', '2021-06-03',\n",
       "       '2022-07-28', '2019-04-01', '2019-03-04', '2022-09-25',\n",
       "       '2020-12-07', '2018-06-03', '2022-01-01', '2018-05-23',\n",
       "       '2022-09-02', '2020-08-04', '2021-09-11', '2020-08-16',\n",
       "       '2021-09-07', '2021-11-03', '2019-09-01', '2022-08-29',\n",
       "       '2019-06-16', '2019-09-16', '2022-05-28', '2019-10-11',\n",
       "       '2022-11-11', '2020-04-03', '2018-03-04', '2021-11-11',\n",
       "       '2021-02-16'], dtype=object)"
      ]
     },
     "execution_count": 95,
     "metadata": {},
     "output_type": "execute_result"
    }
   ],
   "source": [
    "subscription_information['start_date'].unique()"
   ]
  },
  {
   "cell_type": "code",
   "execution_count": 96,
   "id": "a99e00e0",
   "metadata": {},
   "outputs": [],
   "source": [
    "subscription_information['start_date'] = pd.to_datetime(subscription_information['start_date'])\n",
    "subscription_information['end_date'] = pd.to_datetime  (subscription_information['end_date'])\n"
   ]
  },
  {
   "cell_type": "markdown",
   "id": "66320123",
   "metadata": {},
   "source": [
    "## Table 2 : Payment Information"
   ]
  },
  {
   "cell_type": "code",
   "execution_count": 97,
   "id": "a56c9155",
   "metadata": {},
   "outputs": [
    {
     "name": "stdout",
     "output_type": "stream",
     "text": [
      "<class 'pandas.core.frame.DataFrame'>\n",
      "RangeIndex: 100 entries, 0 to 99\n",
      "Data columns (total 4 columns):\n",
      " #   Column          Non-Null Count  Dtype  \n",
      "---  ------          --------------  -----  \n",
      " 0   client_id       100 non-null    int64  \n",
      " 1   payment_date    100 non-null    object \n",
      " 2   amount_paid     100 non-null    float64\n",
      " 3   payment_method  100 non-null    object \n",
      "dtypes: float64(1), int64(1), object(2)\n",
      "memory usage: 3.2+ KB\n"
     ]
    }
   ],
   "source": [
    "payment_information.info()"
   ]
  },
  {
   "cell_type": "code",
   "execution_count": 98,
   "id": "3327fb6f",
   "metadata": {},
   "outputs": [
    {
     "data": {
      "text/html": [
       "<div>\n",
       "<style scoped>\n",
       "    .dataframe tbody tr th:only-of-type {\n",
       "        vertical-align: middle;\n",
       "    }\n",
       "\n",
       "    .dataframe tbody tr th {\n",
       "        vertical-align: top;\n",
       "    }\n",
       "\n",
       "    .dataframe thead th {\n",
       "        text-align: right;\n",
       "    }\n",
       "</style>\n",
       "<table border=\"1\" class=\"dataframe\">\n",
       "  <thead>\n",
       "    <tr style=\"text-align: right;\">\n",
       "      <th></th>\n",
       "      <th>client_id</th>\n",
       "      <th>payment_date</th>\n",
       "      <th>amount_paid</th>\n",
       "      <th>payment_method</th>\n",
       "    </tr>\n",
       "  </thead>\n",
       "  <tbody>\n",
       "    <tr>\n",
       "      <th>0</th>\n",
       "      <td>6292156167</td>\n",
       "      <td>9/16/2019</td>\n",
       "      <td>447.0</td>\n",
       "      <td>Bank Transfer</td>\n",
       "    </tr>\n",
       "    <tr>\n",
       "      <th>1</th>\n",
       "      <td>7462725203</td>\n",
       "      <td>5/21/2018</td>\n",
       "      <td>379.7</td>\n",
       "      <td>Bank Transfer</td>\n",
       "    </tr>\n",
       "    <tr>\n",
       "      <th>2</th>\n",
       "      <td>4698004907</td>\n",
       "      <td>9/11/2021</td>\n",
       "      <td>435.1</td>\n",
       "      <td>Check</td>\n",
       "    </tr>\n",
       "    <tr>\n",
       "      <th>3</th>\n",
       "      <td>3510240337</td>\n",
       "      <td>12/7/2020</td>\n",
       "      <td>413.1</td>\n",
       "      <td>Check</td>\n",
       "    </tr>\n",
       "    <tr>\n",
       "      <th>4</th>\n",
       "      <td>7501599785</td>\n",
       "      <td>3/4/2019</td>\n",
       "      <td>61.1</td>\n",
       "      <td>Bank Transfer</td>\n",
       "    </tr>\n",
       "  </tbody>\n",
       "</table>\n",
       "</div>"
      ],
      "text/plain": [
       "    client_id payment_date  amount_paid payment_method\n",
       "0  6292156167    9/16/2019        447.0  Bank Transfer\n",
       "1  7462725203    5/21/2018        379.7  Bank Transfer\n",
       "2  4698004907    9/11/2021        435.1          Check\n",
       "3  3510240337    12/7/2020        413.1          Check\n",
       "4  7501599785     3/4/2019         61.1  Bank Transfer"
      ]
     },
     "execution_count": 98,
     "metadata": {},
     "output_type": "execute_result"
    }
   ],
   "source": [
    "payment_information.head()"
   ]
  },
  {
   "cell_type": "markdown",
   "id": "4695a24c",
   "metadata": {},
   "source": [
    "### 🔍 Observation\n",
    "\n",
    "- There are **no missing (null) values** in the dataset, so no imputation or removal is required.\n",
    "- The **only transformation needed** is to **convert** the `payment_date` columns to proper `datetime` format for accurate analysis.\n"
   ]
  },
  {
   "cell_type": "markdown",
   "id": "9bab8acf",
   "metadata": {},
   "source": [
    "### 🛠️ Handling the Datatype\n",
    "\n",
    "- The `start_date` and `end_date` columns contain dates in mixed formats (e.g., `MM-DD-YYYY` and `MM/DD/YYYY`).\n",
    "- To ensure consistency, all hyphens (`-`) will be replaced with slashes (`/`) to standardize the format as `MM/DD/YYYY`.\n",
    "- Once standardized, the columns will be **converted to `datetime` format** for accurate analysis and manipulation.\n"
   ]
  },
  {
   "cell_type": "code",
   "execution_count": 99,
   "id": "f772ccbf",
   "metadata": {},
   "outputs": [
    {
     "data": {
      "text/plain": [
       "array(['9/16/2019', '5/21/2018', '9/11/2021', '12/7/2020', '3/4/2019',\n",
       "       '2/10/2018', '7/9/2019', '7/6/2019', '3/2/2019', '11/25/2022',\n",
       "       '8/16/2020', '2/13/2021', '4/21/2019', '11/15/2019', '9/17/2020',\n",
       "       '5/23/2018', '10/11/2019', '12/25/2021', '12/2/2021', '4/12/2018',\n",
       "       '11/28/2018', '7/10/2018', '9/25/2022', '11/8/2018', '11/3/2021',\n",
       "       '9/19/2020', '6/4/2021', '12/30/2019', '6/14/2019', '11/4/2020',\n",
       "       '6/3/2021', '1/24/2019', '5/1/2019', '4/1/2019', '6/2/2021',\n",
       "       '12/12/2018', '2/16/2021', '6/28/2021', '12/20/2022', '3/29/2020',\n",
       "       '5/16/2019', '11/14/2022', '12/17/2020', '8/14/2020', '5/24/2021',\n",
       "       '7/7/2019', '7/28/2022', '11/11/2020', '9/14/2019', '3/6/2022',\n",
       "       '2/24/2022', '8/29/2022', '4/3/2018', '5/24/2019', '4/3/2020',\n",
       "       '12/14/2018', '12/18/2021', '12/19/2018', '7/26/2021', '5/29/2018',\n",
       "       '2/17/2022', '11/13/2020', '9/2/2022', '1/25/2020', '7/5/2021',\n",
       "       '6/25/2020', '11/11/2022', '6/3/2018', '2/14/2022', '1/1/2022',\n",
       "       '10/11/2022', '4/4/2020', '7/19/2019', '3/4/2018', '4/24/2021',\n",
       "       '7/21/2018', '6/16/2019', '5/18/2018', '12/29/2019', '9/1/2019',\n",
       "       '4/9/2022', '11/7/2019', '2/23/2021', '1/6/2022', '1/19/2021',\n",
       "       '11/15/2021', '8/30/2021', '3/14/2020', '12/3/2018', '11/11/2021',\n",
       "       '8/4/2020', '6/6/2022', '6/3/2020', '9/15/2021', '5/15/2020',\n",
       "       '9/7/2021', '5/28/2022'], dtype=object)"
      ]
     },
     "execution_count": 99,
     "metadata": {},
     "output_type": "execute_result"
    }
   ],
   "source": [
    "payment_information['payment_date'].unique()\n"
   ]
  },
  {
   "cell_type": "code",
   "execution_count": 100,
   "id": "1133517b",
   "metadata": {},
   "outputs": [],
   "source": [
    "payment_information['payment_date'] = payment_information['payment_date'].str.replace('-', '/', regex=False)\n",
    "\n",
    "payment_information['payment_date'] = pd.to_datetime(payment_information['payment_date'], format='%m/%d/%Y')"
   ]
  },
  {
   "cell_type": "markdown",
   "id": "5e07eb51",
   "metadata": {},
   "source": [
    "## Table 3 : Industry Client"
   ]
  },
  {
   "cell_type": "code",
   "execution_count": 101,
   "id": "226b6b25",
   "metadata": {},
   "outputs": [
    {
     "name": "stdout",
     "output_type": "stream",
     "text": [
      "<class 'pandas.core.frame.DataFrame'>\n",
      "RangeIndex: 100 entries, 0 to 99\n",
      "Data columns (total 4 columns):\n",
      " #   Column        Non-Null Count  Dtype \n",
      "---  ------        --------------  ----- \n",
      " 0   client_id     100 non-null    int64 \n",
      " 1   company_size  100 non-null    object\n",
      " 2   industry      100 non-null    object\n",
      " 3   location      100 non-null    object\n",
      "dtypes: int64(1), object(3)\n",
      "memory usage: 3.2+ KB\n"
     ]
    }
   ],
   "source": [
    "industry_client.info()"
   ]
  },
  {
   "cell_type": "code",
   "execution_count": 102,
   "id": "1cb6ba5b",
   "metadata": {},
   "outputs": [
    {
     "data": {
      "text/html": [
       "<div>\n",
       "<style scoped>\n",
       "    .dataframe tbody tr th:only-of-type {\n",
       "        vertical-align: middle;\n",
       "    }\n",
       "\n",
       "    .dataframe tbody tr th {\n",
       "        vertical-align: top;\n",
       "    }\n",
       "\n",
       "    .dataframe thead th {\n",
       "        text-align: right;\n",
       "    }\n",
       "</style>\n",
       "<table border=\"1\" class=\"dataframe\">\n",
       "  <thead>\n",
       "    <tr style=\"text-align: right;\">\n",
       "      <th></th>\n",
       "      <th>client_id</th>\n",
       "      <th>company_size</th>\n",
       "      <th>industry</th>\n",
       "      <th>location</th>\n",
       "    </tr>\n",
       "  </thead>\n",
       "  <tbody>\n",
       "    <tr>\n",
       "      <th>0</th>\n",
       "      <td>4280387012</td>\n",
       "      <td>Large</td>\n",
       "      <td>Finance Lending</td>\n",
       "      <td>Mumbai</td>\n",
       "    </tr>\n",
       "    <tr>\n",
       "      <th>1</th>\n",
       "      <td>2095513148</td>\n",
       "      <td>Small</td>\n",
       "      <td>Finance Lending</td>\n",
       "      <td>Chennai</td>\n",
       "    </tr>\n",
       "    <tr>\n",
       "      <th>2</th>\n",
       "      <td>7225516707</td>\n",
       "      <td>Medium</td>\n",
       "      <td>Finance Lending</td>\n",
       "      <td>New Delhi</td>\n",
       "    </tr>\n",
       "    <tr>\n",
       "      <th>3</th>\n",
       "      <td>8093537819</td>\n",
       "      <td>Large</td>\n",
       "      <td>Block Chain</td>\n",
       "      <td>Mumbai</td>\n",
       "    </tr>\n",
       "    <tr>\n",
       "      <th>4</th>\n",
       "      <td>4387541014</td>\n",
       "      <td>Medium</td>\n",
       "      <td>Hyper Local</td>\n",
       "      <td>Banglore</td>\n",
       "    </tr>\n",
       "  </tbody>\n",
       "</table>\n",
       "</div>"
      ],
      "text/plain": [
       "    client_id company_size         industry   location\n",
       "0  4280387012        Large  Finance Lending     Mumbai\n",
       "1  2095513148        Small  Finance Lending    Chennai\n",
       "2  7225516707       Medium  Finance Lending  New Delhi\n",
       "3  8093537819        Large      Block Chain     Mumbai\n",
       "4  4387541014       Medium      Hyper Local   Banglore"
      ]
     },
     "execution_count": 102,
     "metadata": {},
     "output_type": "execute_result"
    }
   ],
   "source": [
    "industry_client.head()"
   ]
  },
  {
   "cell_type": "markdown",
   "id": "9c42a095",
   "metadata": {},
   "source": [
    "## Table 4 : Financial Information"
   ]
  },
  {
   "cell_type": "code",
   "execution_count": 103,
   "id": "5a9f51aa",
   "metadata": {},
   "outputs": [
    {
     "name": "stdout",
     "output_type": "stream",
     "text": [
      "<class 'pandas.core.frame.DataFrame'>\n",
      "RangeIndex: 21 entries, 0 to 20\n",
      "Data columns (total 5 columns):\n",
      " #   Column           Non-Null Count  Dtype  \n",
      "---  ------           --------------  -----  \n",
      " 0   Unnamed: 0       21 non-null     int64  \n",
      " 1   start_date       21 non-null     object \n",
      " 2   end_date         21 non-null     object \n",
      " 3   inflation_rate   21 non-null     float64\n",
      " 4   gdp_growth_rate  21 non-null     float64\n",
      "dtypes: float64(2), int64(1), object(2)\n",
      "memory usage: 968.0+ bytes\n"
     ]
    }
   ],
   "source": [
    "financial_information.info()"
   ]
  },
  {
   "cell_type": "code",
   "execution_count": 104,
   "id": "b7ba0904",
   "metadata": {},
   "outputs": [
    {
     "data": {
      "text/plain": [
       "array(['2018-01-01', '2018-04-01', '2018-07-01', '2018-10-01',\n",
       "       '2019-01-01', '2019-04-01', '2019-07-01', '2019-10-01',\n",
       "       '2020-01-01', '2020-04-01', '2020-07-01', '2020-10-01',\n",
       "       '2021-01-01', '2021-04-01', '2021-07-01', '2021-10-01',\n",
       "       '2022-01-01', '2022-04-01', '2022-07-01', '2022-10-01',\n",
       "       '2023-01-01'], dtype=object)"
      ]
     },
     "execution_count": 104,
     "metadata": {},
     "output_type": "execute_result"
    }
   ],
   "source": [
    "financial_information['start_date'].unique()"
   ]
  },
  {
   "cell_type": "code",
   "execution_count": 105,
   "id": "430d4952",
   "metadata": {},
   "outputs": [
    {
     "data": {
      "text/plain": [
       "array(['2018-03-31', '2018-06-30', '2018-09-30', '2018-12-31',\n",
       "       '2019-03-31', '2019-06-30', '2019-09-30', '2019-12-31',\n",
       "       '2020-03-31', '2020-06-30', '2020-09-30', '2020-12-31',\n",
       "       '2021-03-31', '2021-06-30', '2021-09-30', '2021-12-31',\n",
       "       '2022-03-31', '2022-06-30', '2022-09-30', '2022-12-31',\n",
       "       '2023-01-03'], dtype=object)"
      ]
     },
     "execution_count": 105,
     "metadata": {},
     "output_type": "execute_result"
    }
   ],
   "source": [
    "financial_information['end_date'].unique()"
   ]
  },
  {
   "cell_type": "markdown",
   "id": "4b6980d0",
   "metadata": {},
   "source": [
    "### 🛠️ Handling the Datatype\n",
    "\n",
    "- The `start_date` and `end_date` columns contain dates is in object datatype\n",
    "- The columns will be **converted to `datetime` format** for accurate analysis and manipulation.\n"
   ]
  },
  {
   "cell_type": "code",
   "execution_count": 106,
   "id": "c4afc41f",
   "metadata": {},
   "outputs": [],
   "source": [
    "financial_information['start_date'] = pd.to_datetime(financial_information['start_date'])\n",
    "financial_information['end_date'] =   pd.to_datetime(financial_information['end_date'])\n"
   ]
  },
  {
   "cell_type": "markdown",
   "id": "3fab40e5",
   "metadata": {},
   "source": [
    "## Questions"
   ]
  },
  {
   "cell_type": "markdown",
   "id": "bc78ff26",
   "metadata": {},
   "source": [
    "### Question 1"
   ]
  },
  {
   "cell_type": "markdown",
   "id": "d019d746",
   "metadata": {},
   "source": [
    "---\n",
    "\n",
    "### 📌 What is the total number of clients engaged in the **Finance Lending** and **Blockchain** sectors within the organization?\n",
    "\n",
    "---"
   ]
  },
  {
   "cell_type": "markdown",
   "id": "a6ee4bbd",
   "metadata": {},
   "source": [
    "Identifying the name of the columns"
   ]
  },
  {
   "cell_type": "code",
   "execution_count": 107,
   "id": "ea801774",
   "metadata": {},
   "outputs": [
    {
     "data": {
      "text/plain": [
       "Index(['client_id', 'company_size', 'industry', 'location'], dtype='object')"
      ]
     },
     "execution_count": 107,
     "metadata": {},
     "output_type": "execute_result"
    }
   ],
   "source": [
    "industry_client.columns"
   ]
  },
  {
   "cell_type": "markdown",
   "id": "3e180d3b",
   "metadata": {},
   "source": [
    "I did this step to check what are the different types of category in industry\n",
    "\n",
    "- Verified the presence of 'Finance' and 'Blockchain' that is required in the question"
   ]
  },
  {
   "cell_type": "code",
   "execution_count": 108,
   "id": "1b843eee",
   "metadata": {},
   "outputs": [
    {
     "data": {
      "text/plain": [
       "industry\n",
       "Block Chain        25\n",
       "Finance Lending    22\n",
       "Gaming             22\n",
       "Hyper Local        20\n",
       "AI                 11\n",
       "Name: count, dtype: int64"
      ]
     },
     "execution_count": 108,
     "metadata": {},
     "output_type": "execute_result"
    }
   ],
   "source": [
    "industry_client['industry'].value_counts()"
   ]
  },
  {
   "cell_type": "markdown",
   "id": "c7e6d35d",
   "metadata": {},
   "source": [
    "\n",
    "**Columns used:**\n",
    "- `client_id` - To count the number of clients.\n",
    "- `industry` - To filter for **Finance Lending** and **Blockchain**.\n",
    "\n",
    "**Steps:**\n",
    "- Use `count()` to get the total number of clients.\n",
    "- Aggregate by `client_id`.\n",
    "- Group by `industry`.\n",
    "- Filter for **Finance Lending** and **Blockchain** using the `isin()` function.\n"
   ]
  },
  {
   "cell_type": "code",
   "execution_count": 109,
   "id": "f0c71d3d",
   "metadata": {},
   "outputs": [
    {
     "data": {
      "text/html": [
       "<div>\n",
       "<style scoped>\n",
       "    .dataframe tbody tr th:only-of-type {\n",
       "        vertical-align: middle;\n",
       "    }\n",
       "\n",
       "    .dataframe tbody tr th {\n",
       "        vertical-align: top;\n",
       "    }\n",
       "\n",
       "    .dataframe thead th {\n",
       "        text-align: right;\n",
       "    }\n",
       "</style>\n",
       "<table border=\"1\" class=\"dataframe\">\n",
       "  <thead>\n",
       "    <tr style=\"text-align: right;\">\n",
       "      <th></th>\n",
       "      <th>client_id</th>\n",
       "    </tr>\n",
       "    <tr>\n",
       "      <th>industry</th>\n",
       "      <th></th>\n",
       "    </tr>\n",
       "  </thead>\n",
       "  <tbody>\n",
       "    <tr>\n",
       "      <th>Block Chain</th>\n",
       "      <td>25</td>\n",
       "    </tr>\n",
       "    <tr>\n",
       "      <th>Finance Lending</th>\n",
       "      <td>22</td>\n",
       "    </tr>\n",
       "  </tbody>\n",
       "</table>\n",
       "</div>"
      ],
      "text/plain": [
       "                 client_id\n",
       "industry                  \n",
       "Block Chain             25\n",
       "Finance Lending         22"
      ]
     },
     "execution_count": 109,
     "metadata": {},
     "output_type": "execute_result"
    }
   ],
   "source": [
    "industry_client[industry_client['industry'].isin(['Finance Lending', 'Block Chain'])].groupby('industry').agg({'client_id': 'count'})\n"
   ]
  },
  {
   "cell_type": "markdown",
   "id": "b882faca",
   "metadata": {},
   "source": [
    "     The organization has 25 Blockchain clients and 22 Finance Lending clients.\n"
   ]
  },
  {
   "cell_type": "markdown",
   "id": "3418845a",
   "metadata": {},
   "source": [
    "### Visual Representation"
   ]
  },
  {
   "cell_type": "code",
   "execution_count": 110,
   "id": "ed1dca5c",
   "metadata": {},
   "outputs": [
    {
     "data": {
      "image/png": "[encoded data removed]",
      "text/plain": [
       "<Figure size 800x600 with 1 Axes>"
      ]
     },
     "metadata": {},
     "output_type": "display_data"
    }
   ],
   "source": [
    "industry_grouped = industry_client[industry_client['industry'].isin(['Finance Lending', 'Block Chain'])].groupby('industry').agg({'client_id': 'count'}).reset_index()\n",
    "\n",
    "plt.figure(figsize=(8, 6))\n",
    "plt.bar(industry_grouped['industry'], industry_grouped['client_id'], color=['blue', 'green'])\n",
    "\n",
    "plt.title('Number of Clients in Finance Lending and Blockchain', fontsize=14)\n",
    "plt.xlabel('Industry', fontsize=12)\n",
    "plt.ylabel('Number of Clients', fontsize=12)\n",
    "\n",
    "plt.tight_layout()\n",
    "plt.show()\n"
   ]
  },
  {
   "cell_type": "markdown",
   "id": "84384989",
   "metadata": {},
   "source": [
    "### Question 2"
   ]
  },
  {
   "cell_type": "markdown",
   "id": "7aebd9c4",
   "metadata": {},
   "source": [
    "---\n",
    "\n",
    "### 📌 Which industry in the organization has the highest renewal rate?\n",
    "\n",
    "---"
   ]
  },
  {
   "cell_type": "markdown",
   "id": "a31799e9",
   "metadata": {},
   "source": [
    "### Step 1: Merge Required Columns from Two Tables\n",
    "\n",
    "To get the necessary data, we need two columns from two different tables:\n",
    "\n",
    "- `industry` column from the **`industry_client`** table\n",
    "- `renewed` column from the **`subscription_information`** table\n",
    "\n",
    "Both tables have a common column: `client_id`.\n",
    "To combine the necessary information, we perform a **merge operation** using the `client_id` as the key.\n",
    "\n",
    "#### Merge Operation:\n",
    "We use an **inner join** to ensure we only retain clients that exist in both tables.\n"
   ]
  },
  {
   "cell_type": "code",
   "execution_count": 111,
   "id": "c015aaad",
   "metadata": {},
   "outputs": [],
   "source": [
    "org_renew=industry_client.merge(subscription_information,on='client_id',how='inner')"
   ]
  },
  {
   "cell_type": "code",
   "execution_count": 112,
   "id": "b2f15b24",
   "metadata": {},
   "outputs": [
    {
     "data": {
      "text/html": [
       "<div>\n",
       "<style scoped>\n",
       "    .dataframe tbody tr th:only-of-type {\n",
       "        vertical-align: middle;\n",
       "    }\n",
       "\n",
       "    .dataframe tbody tr th {\n",
       "        vertical-align: top;\n",
       "    }\n",
       "\n",
       "    .dataframe thead th {\n",
       "        text-align: right;\n",
       "    }\n",
       "</style>\n",
       "<table border=\"1\" class=\"dataframe\">\n",
       "  <thead>\n",
       "    <tr style=\"text-align: right;\">\n",
       "      <th></th>\n",
       "      <th>client_id</th>\n",
       "      <th>company_size</th>\n",
       "      <th>industry</th>\n",
       "      <th>location</th>\n",
       "      <th>subscription_type</th>\n",
       "      <th>start_date</th>\n",
       "      <th>end_date</th>\n",
       "      <th>renewed</th>\n",
       "    </tr>\n",
       "  </thead>\n",
       "  <tbody>\n",
       "    <tr>\n",
       "      <th>0</th>\n",
       "      <td>4280387012</td>\n",
       "      <td>Large</td>\n",
       "      <td>Finance Lending</td>\n",
       "      <td>Mumbai</td>\n",
       "      <td>Yearly</td>\n",
       "      <td>2022-11-25</td>\n",
       "      <td>2023-11-25</td>\n",
       "      <td>True</td>\n",
       "    </tr>\n",
       "    <tr>\n",
       "      <th>1</th>\n",
       "      <td>2095513148</td>\n",
       "      <td>Small</td>\n",
       "      <td>Finance Lending</td>\n",
       "      <td>Chennai</td>\n",
       "      <td>Monthly</td>\n",
       "      <td>2021-11-03</td>\n",
       "      <td>2021-12-03</td>\n",
       "      <td>False</td>\n",
       "    </tr>\n",
       "    <tr>\n",
       "      <th>2</th>\n",
       "      <td>7225516707</td>\n",
       "      <td>Medium</td>\n",
       "      <td>Finance Lending</td>\n",
       "      <td>New Delhi</td>\n",
       "      <td>Yearly</td>\n",
       "      <td>2021-01-19</td>\n",
       "      <td>2022-01-19</td>\n",
       "      <td>True</td>\n",
       "    </tr>\n",
       "    <tr>\n",
       "      <th>3</th>\n",
       "      <td>8093537819</td>\n",
       "      <td>Large</td>\n",
       "      <td>Block Chain</td>\n",
       "      <td>Mumbai</td>\n",
       "      <td>Monthly</td>\n",
       "      <td>2019-09-14</td>\n",
       "      <td>2019-10-14</td>\n",
       "      <td>False</td>\n",
       "    </tr>\n",
       "    <tr>\n",
       "      <th>4</th>\n",
       "      <td>4387541014</td>\n",
       "      <td>Medium</td>\n",
       "      <td>Hyper Local</td>\n",
       "      <td>Banglore</td>\n",
       "      <td>Monthly</td>\n",
       "      <td>2018-11-08</td>\n",
       "      <td>2018-12-08</td>\n",
       "      <td>False</td>\n",
       "    </tr>\n",
       "    <tr>\n",
       "      <th>...</th>\n",
       "      <td>...</td>\n",
       "      <td>...</td>\n",
       "      <td>...</td>\n",
       "      <td>...</td>\n",
       "      <td>...</td>\n",
       "      <td>...</td>\n",
       "      <td>...</td>\n",
       "      <td>...</td>\n",
       "    </tr>\n",
       "    <tr>\n",
       "      <th>95</th>\n",
       "      <td>9159056053</td>\n",
       "      <td>Medium</td>\n",
       "      <td>Gaming</td>\n",
       "      <td>New Delhi</td>\n",
       "      <td>Yearly</td>\n",
       "      <td>2022-05-28</td>\n",
       "      <td>2023-05-28</td>\n",
       "      <td>False</td>\n",
       "    </tr>\n",
       "    <tr>\n",
       "      <th>96</th>\n",
       "      <td>1077708772</td>\n",
       "      <td>Small</td>\n",
       "      <td>Block Chain</td>\n",
       "      <td>Mumbai</td>\n",
       "      <td>Yearly</td>\n",
       "      <td>2019-07-06</td>\n",
       "      <td>2020-07-05</td>\n",
       "      <td>False</td>\n",
       "    </tr>\n",
       "    <tr>\n",
       "      <th>97</th>\n",
       "      <td>4361672518</td>\n",
       "      <td>Small</td>\n",
       "      <td>AI</td>\n",
       "      <td>New Delhi</td>\n",
       "      <td>Monthly</td>\n",
       "      <td>2019-01-24</td>\n",
       "      <td>2019-02-23</td>\n",
       "      <td>False</td>\n",
       "    </tr>\n",
       "    <tr>\n",
       "      <th>98</th>\n",
       "      <td>6751372012</td>\n",
       "      <td>Large</td>\n",
       "      <td>Hyper Local</td>\n",
       "      <td>Mumbai</td>\n",
       "      <td>Monthly</td>\n",
       "      <td>2018-05-29</td>\n",
       "      <td>2018-06-28</td>\n",
       "      <td>True</td>\n",
       "    </tr>\n",
       "    <tr>\n",
       "      <th>99</th>\n",
       "      <td>6209923307</td>\n",
       "      <td>Medium</td>\n",
       "      <td>Gaming</td>\n",
       "      <td>Chennai</td>\n",
       "      <td>Monthly</td>\n",
       "      <td>2021-07-05</td>\n",
       "      <td>2021-08-04</td>\n",
       "      <td>True</td>\n",
       "    </tr>\n",
       "  </tbody>\n",
       "</table>\n",
       "<p>100 rows × 8 columns</p>\n",
       "</div>"
      ],
      "text/plain": [
       "     client_id company_size         industry   location subscription_type  \\\n",
       "0   4280387012        Large  Finance Lending     Mumbai            Yearly   \n",
       "1   2095513148        Small  Finance Lending    Chennai           Monthly   \n",
       "2   7225516707       Medium  Finance Lending  New Delhi            Yearly   \n",
       "3   8093537819        Large      Block Chain     Mumbai           Monthly   \n",
       "4   4387541014       Medium      Hyper Local   Banglore           Monthly   \n",
       "..         ...          ...              ...        ...               ...   \n",
       "95  9159056053       Medium           Gaming  New Delhi            Yearly   \n",
       "96  1077708772        Small      Block Chain     Mumbai            Yearly   \n",
       "97  4361672518        Small               AI  New Delhi           Monthly   \n",
       "98  6751372012        Large      Hyper Local     Mumbai           Monthly   \n",
       "99  6209923307       Medium           Gaming    Chennai           Monthly   \n",
       "\n",
       "   start_date   end_date  renewed  \n",
       "0  2022-11-25 2023-11-25     True  \n",
       "1  2021-11-03 2021-12-03    False  \n",
       "2  2021-01-19 2022-01-19     True  \n",
       "3  2019-09-14 2019-10-14    False  \n",
       "4  2018-11-08 2018-12-08    False  \n",
       "..        ...        ...      ...  \n",
       "95 2022-05-28 2023-05-28    False  \n",
       "96 2019-07-06 2020-07-05    False  \n",
       "97 2019-01-24 2019-02-23    False  \n",
       "98 2018-05-29 2018-06-28     True  \n",
       "99 2021-07-05 2021-08-04     True  \n",
       "\n",
       "[100 rows x 8 columns]"
      ]
     },
     "execution_count": 112,
     "metadata": {},
     "output_type": "execute_result"
    }
   ],
   "source": [
    "org_renew"
   ]
  },
  {
   "cell_type": "code",
   "execution_count": 113,
   "id": "9e14df99",
   "metadata": {},
   "outputs": [
    {
     "data": {
      "text/plain": [
       "Index(['client_id', 'company_size', 'industry', 'location',\n",
       "       'subscription_type', 'start_date', 'end_date', 'renewed'],\n",
       "      dtype='object')"
      ]
     },
     "execution_count": 113,
     "metadata": {},
     "output_type": "execute_result"
    }
   ],
   "source": [
    "org_renew.columns"
   ]
  },
  {
   "cell_type": "markdown",
   "id": "830d277e",
   "metadata": {},
   "source": [
    "### Step 2: Group by Industry and Renewal Status\n",
    "\n",
    "After merging the tables, we want to analyze the **number of clients who renewed or did not renew** within each **industry**.\n",
    "\n",
    "#### Objective:\n",
    "Group the data by `industry` and `renewed` status (True/False), then **unstack** it to see counts side by side.\n"
   ]
  },
  {
   "cell_type": "code",
   "execution_count": 114,
   "id": "da42c4cb",
   "metadata": {},
   "outputs": [
    {
     "data": {
      "text/html": [
       "<div>\n",
       "<style scoped>\n",
       "    .dataframe tbody tr th:only-of-type {\n",
       "        vertical-align: middle;\n",
       "    }\n",
       "\n",
       "    .dataframe tbody tr th {\n",
       "        vertical-align: top;\n",
       "    }\n",
       "\n",
       "    .dataframe thead th {\n",
       "        text-align: right;\n",
       "    }\n",
       "</style>\n",
       "<table border=\"1\" class=\"dataframe\">\n",
       "  <thead>\n",
       "    <tr style=\"text-align: right;\">\n",
       "      <th>renewed</th>\n",
       "      <th>False</th>\n",
       "      <th>True</th>\n",
       "    </tr>\n",
       "    <tr>\n",
       "      <th>industry</th>\n",
       "      <th></th>\n",
       "      <th></th>\n",
       "    </tr>\n",
       "  </thead>\n",
       "  <tbody>\n",
       "    <tr>\n",
       "      <th>AI</th>\n",
       "      <td>4</td>\n",
       "      <td>7</td>\n",
       "    </tr>\n",
       "    <tr>\n",
       "      <th>Block Chain</th>\n",
       "      <td>14</td>\n",
       "      <td>11</td>\n",
       "    </tr>\n",
       "    <tr>\n",
       "      <th>Finance Lending</th>\n",
       "      <td>10</td>\n",
       "      <td>12</td>\n",
       "    </tr>\n",
       "    <tr>\n",
       "      <th>Gaming</th>\n",
       "      <td>6</td>\n",
       "      <td>16</td>\n",
       "    </tr>\n",
       "    <tr>\n",
       "      <th>Hyper Local</th>\n",
       "      <td>11</td>\n",
       "      <td>9</td>\n",
       "    </tr>\n",
       "  </tbody>\n",
       "</table>\n",
       "</div>"
      ],
      "text/plain": [
       "renewed          False  True \n",
       "industry                     \n",
       "AI                   4      7\n",
       "Block Chain         14     11\n",
       "Finance Lending     10     12\n",
       "Gaming               6     16\n",
       "Hyper Local         11      9"
      ]
     },
     "execution_count": 114,
     "metadata": {},
     "output_type": "execute_result"
    }
   ],
   "source": [
    "grouped = org_renew.groupby(['industry', 'renewed'])['client_id'].count().unstack(fill_value=0)\n",
    "grouped"
   ]
  },
  {
   "cell_type": "markdown",
   "id": "43803c16",
   "metadata": {},
   "source": [
    "### Step 3: Calculate Renewal Rate per Industry\n",
    "\n",
    "Now that we have the counts of renewed (`True`) and not renewed (`False`) clients per industry, we can calculate the **renewal rate** as a percentage.\n"
   ]
  },
  {
   "cell_type": "code",
   "execution_count": 115,
   "id": "7fd24ddd",
   "metadata": {},
   "outputs": [
    {
     "name": "stdout",
     "output_type": "stream",
     "text": [
      "renewed          False  True  renewal_rate\n",
      "industry                                  \n",
      "AI                   4     7         63.64\n",
      "Block Chain         14    11         44.00\n",
      "Finance Lending     10    12         54.55\n",
      "Gaming               6    16         72.73\n",
      "Hyper Local         11     9         45.00\n"
     ]
    }
   ],
   "source": [
    "\n",
    "grouped['renewal_rate'] = (grouped.get(True, 0) / grouped.sum(axis=1)) * 100\n",
    "\n",
    "grouped['renewal_rate'] = grouped['renewal_rate'].round(2)\n",
    "\n",
    "print(grouped)\n"
   ]
  },
  {
   "cell_type": "markdown",
   "id": "d804487a",
   "metadata": {},
   "source": [
    "### Step 4: Identify the Industry with the Highest Renewal Rate\n",
    "\n",
    "- We use idxmax() to find the industry with maximum renewal rate \n",
    "- We use max to find the maximum renewal rate"
   ]
  },
  {
   "cell_type": "code",
   "execution_count": 116,
   "id": "6cbf2a00",
   "metadata": {},
   "outputs": [
    {
     "name": "stdout",
     "output_type": "stream",
     "text": [
      "The industry with the highest renewal rate is 'Gaming' with a rate of 72.73%.\n"
     ]
    }
   ],
   "source": [
    "top_industry = grouped['renewal_rate'].idxmax()\n",
    "top_rate = grouped['renewal_rate'].max()\n",
    "\n",
    "print(f\"The industry with the highest renewal rate is '{top_industry}' with a rate of {top_rate}%.\")"
   ]
  },
  {
   "cell_type": "markdown",
   "id": "7d7efb95",
   "metadata": {},
   "source": [
    "\n",
    "    The industry with the highest renewal rate is **Gaming** with a rate of **72.73%**"
   ]
  },
  {
   "cell_type": "markdown",
   "id": "a88e5006",
   "metadata": {},
   "source": [
    "### Question 3"
   ]
  },
  {
   "cell_type": "markdown",
   "id": "9a5d2734",
   "metadata": {},
   "source": [
    "---\n",
    "\n",
    "### 📌 What was the average inflation rate when their subscriptions were renewed?\n",
    "\n",
    "---\n",
    "\n"
   ]
  },
  {
   "cell_type": "markdown",
   "id": "4e09890f",
   "metadata": {},
   "source": [
    "- We have two separate tables with columns we need to combine:\n",
    "  - **Inflation Rate** (from Financial Information table)\n",
    "  - **Renewed** (from Subscription Information table)\n",
    "- Both tables have start and end date fields, but the tables cannot be directly merged\n",
    "\n",
    "## Solution Approach\n",
    "1. **Pattern Observation**:\n",
    "   - The Subscription Information table (with Renewed column) is missing inflation data\n",
    "   - Financial Information table contains quarterly inflation rates (every 3 months)\n",
    "\n",
    "2. **Matching Logic**:\n",
    "   - For each subscription record, check which financial quarters fall within its date range\n",
    "   - Use the inflation rates from those matching quarters\n",
    "\n",
    "3. **Edge Case Handling**:\n",
    "   - When dates don't align perfectly with quarter boundaries, calculate the average inflation rate across relevant quarters\n",
    "\n",
    "4. **Filtering for Relevant Subscriptions**:\n",
    "   - We are only interested in subscriptions that were **renewed** (`renewed = True`).\n",
    "   - Therefore, all calculations will be performed **only on records where `renewed` is True** to focus the analysis on successful client retention cases.\n",
    "\n",
    "\n",
    "## Example Calculation\n",
    "\n",
    "**Subscription Information:**\n",
    "- Start Date: 25-12-2021\n",
    "- End Date: 25-12-2022\n",
    "\n",
    "**Financial Information Quarters:**\n",
    "| Start Date  | End Date    | Inflation Rate |\n",
    "|-------------|-------------|----------------|\n",
    "| 01-10-2021  | 31-12-2021  | 7.32           |\n",
    "| 01-01-2022  | 31-03-2022  | 6.76           |\n",
    "| 01-04-2022  | 30-06-2022  | 6.80           |\n",
    "| 01-07-2022  | 30-09-2022  | 5.60           |\n",
    "| 01-10-2022  | 31-12-2022  | 4.40           |\n",
    "\n",
    "**Calculation:**\n",
    "Average Inflation Rate = (7.32 + 6.76 + 6.80 + 5.60 + 4.40) / 5 = **6.176**"
   ]
  },
  {
   "cell_type": "code",
   "execution_count": 117,
   "id": "d1f32a5c",
   "metadata": {},
   "outputs": [],
   "source": [
    "def get_average_financials(row):\n",
    "    # Only calculate if the client has renewed\n",
    "    if row['renewed'] != True:\n",
    "        return pd.Series([0], index=['avg_inflation_rate'])\n",
    "\n",
    "    # Get the client's subscription dates\n",
    "    sub_start = row['start_date']\n",
    "    sub_end = row['end_date']\n",
    "\n",
    "    # Find overlapping financial quarters\n",
    "    overlapping = financial_information[\n",
    "        (financial_information['end_date'] >= sub_start) &\n",
    "        (financial_information['start_date'] <= sub_end)\n",
    "    ]\n",
    "\n",
    "    # If overlapping quarters found, return average inflation rate\n",
    "    if not overlapping.empty:\n",
    "        avg_inflation = overlapping['inflation_rate'].mean()\n",
    "        return pd.Series([avg_inflation], index=['avg_inflation_rate'])\n",
    "\n",
    "    # No overlapping quarters\n",
    "    return pd.Series([None], index=['avg_inflation_rate'])\n"
   ]
  },
  {
   "cell_type": "code",
   "execution_count": 118,
   "id": "4adf66a6",
   "metadata": {},
   "outputs": [],
   "source": [
    "subscription_information[['avg_inflation_rate']] = subscription_information.apply(get_average_financials, axis=1)\n"
   ]
  },
  {
   "cell_type": "code",
   "execution_count": 119,
   "id": "0711224c",
   "metadata": {},
   "outputs": [
    {
     "data": {
      "text/html": [
       "<div>\n",
       "<style scoped>\n",
       "    .dataframe tbody tr th:only-of-type {\n",
       "        vertical-align: middle;\n",
       "    }\n",
       "\n",
       "    .dataframe tbody tr th {\n",
       "        vertical-align: top;\n",
       "    }\n",
       "\n",
       "    .dataframe thead th {\n",
       "        text-align: right;\n",
       "    }\n",
       "</style>\n",
       "<table border=\"1\" class=\"dataframe\">\n",
       "  <thead>\n",
       "    <tr style=\"text-align: right;\">\n",
       "      <th></th>\n",
       "      <th>client_id</th>\n",
       "      <th>subscription_type</th>\n",
       "      <th>start_date</th>\n",
       "      <th>end_date</th>\n",
       "      <th>renewed</th>\n",
       "      <th>avg_inflation_rate</th>\n",
       "    </tr>\n",
       "  </thead>\n",
       "  <tbody>\n",
       "    <tr>\n",
       "      <th>0</th>\n",
       "      <td>1131383004</td>\n",
       "      <td>Yearly</td>\n",
       "      <td>2020-11-11</td>\n",
       "      <td>2021-11-11</td>\n",
       "      <td>False</td>\n",
       "      <td>0.000</td>\n",
       "    </tr>\n",
       "    <tr>\n",
       "      <th>1</th>\n",
       "      <td>4309371709</td>\n",
       "      <td>Monthly</td>\n",
       "      <td>2021-05-24</td>\n",
       "      <td>2021-06-23</td>\n",
       "      <td>True</td>\n",
       "      <td>0.760</td>\n",
       "    </tr>\n",
       "    <tr>\n",
       "      <th>2</th>\n",
       "      <td>3183675157</td>\n",
       "      <td>Yearly</td>\n",
       "      <td>2021-12-25</td>\n",
       "      <td>2022-12-25</td>\n",
       "      <td>True</td>\n",
       "      <td>6.176</td>\n",
       "    </tr>\n",
       "    <tr>\n",
       "      <th>3</th>\n",
       "      <td>5371694837</td>\n",
       "      <td>Monthly</td>\n",
       "      <td>2020-03-14</td>\n",
       "      <td>2020-04-13</td>\n",
       "      <td>True</td>\n",
       "      <td>4.545</td>\n",
       "    </tr>\n",
       "    <tr>\n",
       "      <th>4</th>\n",
       "      <td>5157113076</td>\n",
       "      <td>Monthly</td>\n",
       "      <td>2019-11-07</td>\n",
       "      <td>2019-12-07</td>\n",
       "      <td>False</td>\n",
       "      <td>0.000</td>\n",
       "    </tr>\n",
       "  </tbody>\n",
       "</table>\n",
       "</div>"
      ],
      "text/plain": [
       "    client_id subscription_type start_date   end_date  renewed  \\\n",
       "0  1131383004            Yearly 2020-11-11 2021-11-11    False   \n",
       "1  4309371709           Monthly 2021-05-24 2021-06-23     True   \n",
       "2  3183675157            Yearly 2021-12-25 2022-12-25     True   \n",
       "3  5371694837           Monthly 2020-03-14 2020-04-13     True   \n",
       "4  5157113076           Monthly 2019-11-07 2019-12-07    False   \n",
       "\n",
       "   avg_inflation_rate  \n",
       "0               0.000  \n",
       "1               0.760  \n",
       "2               6.176  \n",
       "3               4.545  \n",
       "4               0.000  "
      ]
     },
     "execution_count": 119,
     "metadata": {},
     "output_type": "execute_result"
    }
   ],
   "source": [
    "subscription_information.head()\n"
   ]
  },
  {
   "cell_type": "markdown",
   "id": "325ec5b6",
   "metadata": {},
   "source": [
    "- Find the average of the inflation_rate column"
   ]
  },
  {
   "cell_type": "code",
   "execution_count": 120,
   "id": "14be6767",
   "metadata": {},
   "outputs": [
    {
     "name": "stdout",
     "output_type": "stream",
     "text": [
      "Average Inflation Rate: 4.43\n"
     ]
    }
   ],
   "source": [
    "average_inflation = financial_information['inflation_rate'].mean()\n",
    "print(f\"Average Inflation Rate: {average_inflation:.2f}\")\n"
   ]
  },
  {
   "cell_type": "markdown",
   "id": "11ef0bf1",
   "metadata": {},
   "source": [
    "    Average inflation rate when their subscriptions were renewed is 4.43"
   ]
  },
  {
   "cell_type": "markdown",
   "id": "4f1bbdb0",
   "metadata": {},
   "source": [
    "## Question 4"
   ]
  },
  {
   "cell_type": "markdown",
   "id": "aaf53239",
   "metadata": {},
   "source": [
    "---\n",
    "\n",
    "### 📌 What is the median amount paid each year for all payment methods? \n",
    "\n",
    "---\n",
    "\t"
   ]
  },
  {
   "cell_type": "code",
   "execution_count": 121,
   "id": "e7d55b4a",
   "metadata": {},
   "outputs": [
    {
     "name": "stdout",
     "output_type": "stream",
     "text": [
      "<class 'pandas.core.frame.DataFrame'>\n",
      "RangeIndex: 100 entries, 0 to 99\n",
      "Data columns (total 4 columns):\n",
      " #   Column          Non-Null Count  Dtype         \n",
      "---  ------          --------------  -----         \n",
      " 0   client_id       100 non-null    int64         \n",
      " 1   payment_date    100 non-null    datetime64[ns]\n",
      " 2   amount_paid     100 non-null    float64       \n",
      " 3   payment_method  100 non-null    object        \n",
      "dtypes: datetime64[ns](1), float64(1), int64(1), object(1)\n",
      "memory usage: 3.2+ KB\n"
     ]
    }
   ],
   "source": [
    "payment_information.info()"
   ]
  },
  {
   "cell_type": "markdown",
   "id": "ab0bead2",
   "metadata": {},
   "source": [
    "**Columns used:**\n",
    "- `payment_method` - To categorize payments by type (Credit Card, PayPal, etc.)\n",
    "- `payment_date` - To extract the year for annual grouping\n",
    "- `amount_paid` - To calculate median payment amounts\n",
    "\n",
    "**Steps:**\n",
    "1. Extract the year from `payment_date` using `dt.year`\n",
    "2. Group by both:\n",
    "   - `payment_method` (all available methods)\n",
    "   - Year extracted from `payment_date`\n",
    "3. Calculate the median of `amount_paid` using `median()` aggregation"
   ]
  },
  {
   "cell_type": "code",
   "execution_count": 122,
   "id": "200c94b1",
   "metadata": {},
   "outputs": [
    {
     "data": {
      "text/html": [
       "<div>\n",
       "<style scoped>\n",
       "    .dataframe tbody tr th:only-of-type {\n",
       "        vertical-align: middle;\n",
       "    }\n",
       "\n",
       "    .dataframe tbody tr th {\n",
       "        vertical-align: top;\n",
       "    }\n",
       "\n",
       "    .dataframe thead th {\n",
       "        text-align: right;\n",
       "    }\n",
       "</style>\n",
       "<table border=\"1\" class=\"dataframe\">\n",
       "  <thead>\n",
       "    <tr style=\"text-align: right;\">\n",
       "      <th></th>\n",
       "      <th>payment_method</th>\n",
       "      <th>year</th>\n",
       "      <th>amount_paid</th>\n",
       "    </tr>\n",
       "  </thead>\n",
       "  <tbody>\n",
       "    <tr>\n",
       "      <th>0</th>\n",
       "      <td>Bank Transfer</td>\n",
       "      <td>2018</td>\n",
       "      <td>281.65</td>\n",
       "    </tr>\n",
       "    <tr>\n",
       "      <th>1</th>\n",
       "      <td>Bank Transfer</td>\n",
       "      <td>2019</td>\n",
       "      <td>184.20</td>\n",
       "    </tr>\n",
       "    <tr>\n",
       "      <th>2</th>\n",
       "      <td>Bank Transfer</td>\n",
       "      <td>2020</td>\n",
       "      <td>225.10</td>\n",
       "    </tr>\n",
       "    <tr>\n",
       "      <th>3</th>\n",
       "      <td>Bank Transfer</td>\n",
       "      <td>2021</td>\n",
       "      <td>255.30</td>\n",
       "    </tr>\n",
       "    <tr>\n",
       "      <th>4</th>\n",
       "      <td>Bank Transfer</td>\n",
       "      <td>2022</td>\n",
       "      <td>196.50</td>\n",
       "    </tr>\n",
       "    <tr>\n",
       "      <th>5</th>\n",
       "      <td>Check</td>\n",
       "      <td>2018</td>\n",
       "      <td>216.60</td>\n",
       "    </tr>\n",
       "    <tr>\n",
       "      <th>6</th>\n",
       "      <td>Check</td>\n",
       "      <td>2019</td>\n",
       "      <td>410.20</td>\n",
       "    </tr>\n",
       "    <tr>\n",
       "      <th>7</th>\n",
       "      <td>Check</td>\n",
       "      <td>2020</td>\n",
       "      <td>413.10</td>\n",
       "    </tr>\n",
       "    <tr>\n",
       "      <th>8</th>\n",
       "      <td>Check</td>\n",
       "      <td>2021</td>\n",
       "      <td>435.10</td>\n",
       "    </tr>\n",
       "    <tr>\n",
       "      <th>9</th>\n",
       "      <td>Check</td>\n",
       "      <td>2022</td>\n",
       "      <td>275.50</td>\n",
       "    </tr>\n",
       "    <tr>\n",
       "      <th>10</th>\n",
       "      <td>Credit Card</td>\n",
       "      <td>2018</td>\n",
       "      <td>229.15</td>\n",
       "    </tr>\n",
       "    <tr>\n",
       "      <th>11</th>\n",
       "      <td>Credit Card</td>\n",
       "      <td>2019</td>\n",
       "      <td>401.90</td>\n",
       "    </tr>\n",
       "    <tr>\n",
       "      <th>12</th>\n",
       "      <td>Credit Card</td>\n",
       "      <td>2020</td>\n",
       "      <td>285.25</td>\n",
       "    </tr>\n",
       "    <tr>\n",
       "      <th>13</th>\n",
       "      <td>Credit Card</td>\n",
       "      <td>2021</td>\n",
       "      <td>208.70</td>\n",
       "    </tr>\n",
       "    <tr>\n",
       "      <th>14</th>\n",
       "      <td>Credit Card</td>\n",
       "      <td>2022</td>\n",
       "      <td>326.20</td>\n",
       "    </tr>\n",
       "  </tbody>\n",
       "</table>\n",
       "</div>"
      ],
      "text/plain": [
       "   payment_method  year  amount_paid\n",
       "0   Bank Transfer  2018       281.65\n",
       "1   Bank Transfer  2019       184.20\n",
       "2   Bank Transfer  2020       225.10\n",
       "3   Bank Transfer  2021       255.30\n",
       "4   Bank Transfer  2022       196.50\n",
       "5           Check  2018       216.60\n",
       "6           Check  2019       410.20\n",
       "7           Check  2020       413.10\n",
       "8           Check  2021       435.10\n",
       "9           Check  2022       275.50\n",
       "10    Credit Card  2018       229.15\n",
       "11    Credit Card  2019       401.90\n",
       "12    Credit Card  2020       285.25\n",
       "13    Credit Card  2021       208.70\n",
       "14    Credit Card  2022       326.20"
      ]
     },
     "execution_count": 122,
     "metadata": {},
     "output_type": "execute_result"
    }
   ],
   "source": [
    "median_payments = (\n",
    "    payment_information\n",
    "    .groupby([\n",
    "        'payment_method',\n",
    "        payment_information['payment_date'].dt.year\n",
    "    ])\n",
    "    .agg({'amount_paid': 'median'})\n",
    "    .reset_index()\n",
    "    .rename(columns={'payment_date': 'year'})\n",
    ")\n",
    "\n",
    "median_payments"
   ]
  },
  {
   "cell_type": "code",
   "execution_count": 123,
   "id": "bcb12016",
   "metadata": {},
   "outputs": [
    {
     "data": {
      "image/png": "[encoded data removed]",
      "text/plain": [
       "<Figure size 1000x500 with 1 Axes>"
      ]
     },
     "metadata": {},
     "output_type": "display_data"
    }
   ],
   "source": [
    "plt.figure(figsize=(10, 5))\n",
    "sns.lineplot(\n",
    "    data=median_payments,\n",
    "    x='year',\n",
    "    y='amount_paid',\n",
    "    hue='payment_method',\n",
    "    marker='o'\n",
    ")\n",
    "plt.title(\"Median Payment Amount by Year & Method\")\n",
    "plt.xlabel(\"Year\")\n",
    "plt.ylabel(\"Median Amount Paid\")\n",
    "plt.grid(True)\n",
    "plt.show()"
   ]
  }
 ],
 "metadata": {
  "kernelspec": {
   "display_name": "Python 3",
   "language": "python",
   "name": "python3"
  },
  "language_info": {
   "codemirror_mode": {
    "name": "ipython",
    "version": 3
   },
   "file_extension": ".py",
   "mimetype": "text/x-python",
   "name": "python",
   "nbconvert_exporter": "python",
   "pygments_lexer": "ipython3",
   "version": "3.10.11"
  }
 },
 "nbformat": 4,
 "nbformat_minor": 5
}
